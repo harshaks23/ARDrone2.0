{
 "cells": [
  {
   "cell_type": "code",
   "execution_count": 1,
   "metadata": {},
   "outputs": [],
   "source": [
    "import cv2\n",
    "import os"
   ]
  },
  {
   "cell_type": "code",
   "execution_count": 6,
   "metadata": {},
   "outputs": [
    {
     "data": {
      "text/plain": [
       "False"
      ]
     },
     "execution_count": 6,
     "metadata": {},
     "output_type": "execute_result"
    }
   ],
   "source": [
    "\n",
    "cam = cv2.VideoCapture(-1)\n",
    "cam.open(0)"
   ]
  },
  {
   "cell_type": "code",
   "execution_count": 2,
   "metadata": {},
   "outputs": [],
   "source": [
    "\n",
    "cam = cv2.VideoCapture(0)\n",
    "detector=cv2.CascadeClassifier('face.xml')\n",
    "i=0\n",
    "offset=50"
   ]
  },
  {
   "cell_type": "code",
   "execution_count": 3,
   "metadata": {},
   "outputs": [
    {
     "data": {
      "text/plain": [
       "cv2.VideoCapture"
      ]
     },
     "execution_count": 3,
     "metadata": {},
     "output_type": "execute_result"
    }
   ],
   "source": [
    "type(cam)\n"
   ]
  },
  {
   "cell_type": "code",
   "execution_count": 4,
   "metadata": {},
   "outputs": [
    {
     "name": "stdout",
     "output_type": "stream",
     "text": [
      "(False, None)\n"
     ]
    }
   ],
   "source": [
    "print(cam.read())"
   ]
  },
  {
   "cell_type": "code",
   "execution_count": null,
   "metadata": {},
   "outputs": [],
   "source": []
  },
  {
   "cell_type": "code",
   "execution_count": 5,
   "metadata": {},
   "outputs": [
    {
     "name": "stdout",
     "output_type": "stream",
     "text": [
      "enter your id1\n"
     ]
    }
   ],
   "source": [
    "\n",
    "name=input('enter your id')"
   ]
  },
  {
   "cell_type": "code",
   "execution_count": 6,
   "metadata": {},
   "outputs": [
    {
     "ename": "KeyboardInterrupt",
     "evalue": "",
     "output_type": "error",
     "traceback": [
      "\u001b[0;31m---------------------------------------------------------------------------\u001b[0m",
      "\u001b[0;31mKeyboardInterrupt\u001b[0m                         Traceback (most recent call last)",
      "\u001b[0;32m<ipython-input-6-8b6266b47769>\u001b[0m in \u001b[0;36m<module>\u001b[0;34m()\u001b[0m\n\u001b[1;32m      1\u001b[0m \u001b[0;32mwhile\u001b[0m\u001b[0;34m(\u001b[0m\u001b[0mcam\u001b[0m\u001b[0;34m.\u001b[0m\u001b[0misOpened\u001b[0m\u001b[0;34m(\u001b[0m\u001b[0;34m)\u001b[0m\u001b[0;34m)\u001b[0m\u001b[0;34m:\u001b[0m\u001b[0;34m\u001b[0m\u001b[0m\n\u001b[0;32m----> 2\u001b[0;31m     \u001b[0mret\u001b[0m\u001b[0;34m,\u001b[0m \u001b[0mim\u001b[0m \u001b[0;34m=\u001b[0m\u001b[0mcam\u001b[0m\u001b[0;34m.\u001b[0m\u001b[0mread\u001b[0m\u001b[0;34m(\u001b[0m\u001b[0;34m)\u001b[0m\u001b[0;34m\u001b[0m\u001b[0m\n\u001b[0m\u001b[1;32m      3\u001b[0m     \u001b[0mpath\u001b[0m \u001b[0;34m=\u001b[0m \u001b[0;34m'/home/kshea/Projects/Drone/python-ardrone/dataset'\u001b[0m\u001b[0;34m\u001b[0m\u001b[0m\n\u001b[1;32m      4\u001b[0m \u001b[0;34m\u001b[0m\u001b[0m\n\u001b[1;32m      5\u001b[0m \u001b[0;34m\u001b[0m\u001b[0m\n",
      "\u001b[0;31mKeyboardInterrupt\u001b[0m: "
     ]
    }
   ],
   "source": [
    "while(cam.isOpened()):\n",
    "    ret, im =cam.read()\n",
    "    path = '/home/kshea/Projects/Drone/python-ardrone/dataset'\n",
    "    \n",
    "    \n",
    "   \n",
    "    gray=cv2.cvtColor(im,cv2.COLOR_BGR2GRAY)\n",
    "    faces=detector.detectMultiScale(gray, scaleFactor=1.2, minNeighbors=5, minSize=(100, 100), flags=cv2.CASCADE_SCALE_IMAGE)\n",
    "    for(x,y,w,h) in faces:\n",
    "        i=i+1\n",
    "        cv2.imwrite(os.path.join(path , \"face-\"+name +'.'+ str(i) + \".jpg\"), gray[y-offset:y+h+offset,x-offset:x+w+offset])\n",
    "        cv2.rectangle(im,(x-50,y-50),(x+w+50,y+h+50),(225,0,0),2)\n",
    "        cv2.imshow('im',im[y-offset:y+h+offset,x-offset:x+w+offset])\n",
    "        cv2.waitKey(1000)\n",
    "    if i>50:\n",
    "        cam.release()\n",
    "        cv2.destroyAllWindows()\n",
    "        break\n"
   ]
  },
  {
   "cell_type": "code",
   "execution_count": 20,
   "metadata": {},
   "outputs": [],
   "source": [
    "import cv2\n",
    "cam = cv2.VideoCapture(-1)\n",
    "cam.set(3,1296)\n",
    "cam.set(4,730)\n",
    "res, img = cam.read()\n",
    "%matplotlib inline\n",
    "from matplotlib import pyplot as plt\n",
    "#plt.imshow(cv2.cvtColor(img,cv2.COLOR_BGR2RGB))\n",
    "# Stop the camera\n",
    "cam.release()\n",
    "\n",
    "# Close all windows\n",
    "cv2.destroyAllWindows()"
   ]
  },
  {
   "cell_type": "code",
   "execution_count": 111,
   "metadata": {},
   "outputs": [
    {
     "name": "stdout",
     "output_type": "stream",
     "text": [
      "/home/kshea/Projects/Drone/python-ardrone/dataset/face-1.51.jpg 1\n",
      "/home/kshea/Projects/Drone/python-ardrone/dataset/face-1.35.jpg 1\n",
      "/home/kshea/Projects/Drone/python-ardrone/dataset/face-1.49.jpg 1\n",
      "/home/kshea/Projects/Drone/python-ardrone/dataset/face-1.38.jpg 1\n",
      "/home/kshea/Projects/Drone/python-ardrone/dataset/face-1.20.jpg 1\n",
      "/home/kshea/Projects/Drone/python-ardrone/dataset/face-1.42.jpg 1\n",
      "/home/kshea/Projects/Drone/python-ardrone/dataset/face-1.15.jpg 1\n",
      "/home/kshea/Projects/Drone/python-ardrone/dataset/face-1.36.jpg 1\n",
      "/home/kshea/Projects/Drone/python-ardrone/dataset/face-1.33.jpg 1\n",
      "/home/kshea/Projects/Drone/python-ardrone/dataset/face-1.24.jpg 1\n",
      "/home/kshea/Projects/Drone/python-ardrone/dataset/face-1.2.jpg 1\n",
      "/home/kshea/Projects/Drone/python-ardrone/dataset/face-1.44.jpg 1\n",
      "/home/kshea/Projects/Drone/python-ardrone/dataset/face-1.40.jpg 1\n",
      "/home/kshea/Projects/Drone/python-ardrone/dataset/face-1.43.jpg 1\n",
      "/home/kshea/Projects/Drone/python-ardrone/dataset/face-1.34.jpg 1\n",
      "/home/kshea/Projects/Drone/python-ardrone/dataset/face-1.1.jpg 1\n",
      "/home/kshea/Projects/Drone/python-ardrone/dataset/face-1.27.jpg 1\n",
      "/home/kshea/Projects/Drone/python-ardrone/dataset/face-1.29.jpg 1\n",
      "/home/kshea/Projects/Drone/python-ardrone/dataset/face-1.22.jpg 1\n",
      "/home/kshea/Projects/Drone/python-ardrone/dataset/face-1.5.jpg 1\n",
      "/home/kshea/Projects/Drone/python-ardrone/dataset/face-1.30.jpg 1\n",
      "/home/kshea/Projects/Drone/python-ardrone/dataset/face-1.50.jpg 1\n",
      "/home/kshea/Projects/Drone/python-ardrone/dataset/face-1.14.jpg 1\n",
      "/home/kshea/Projects/Drone/python-ardrone/dataset/face-1.16.jpg 1\n",
      "/home/kshea/Projects/Drone/python-ardrone/dataset/face-1.41.jpg 1\n",
      "/home/kshea/Projects/Drone/python-ardrone/dataset/face-1.4.jpg 1\n",
      "/home/kshea/Projects/Drone/python-ardrone/dataset/face-1.19.jpg 1\n",
      "/home/kshea/Projects/Drone/python-ardrone/dataset/face-1.47.jpg 1\n",
      "/home/kshea/Projects/Drone/python-ardrone/dataset/face-1.9.jpg 1\n",
      "/home/kshea/Projects/Drone/python-ardrone/dataset/face-1.17.jpg 1\n",
      "/home/kshea/Projects/Drone/python-ardrone/dataset/face-1.32.jpg 1\n",
      "/home/kshea/Projects/Drone/python-ardrone/dataset/face-1.6.jpg 1\n",
      "/home/kshea/Projects/Drone/python-ardrone/dataset/face-1.46.jpg 1\n",
      "/home/kshea/Projects/Drone/python-ardrone/dataset/face-1.10.jpg 1\n",
      "/home/kshea/Projects/Drone/python-ardrone/dataset/face-1.3.jpg 1\n",
      "/home/kshea/Projects/Drone/python-ardrone/dataset/face-1.37.jpg 1\n",
      "/home/kshea/Projects/Drone/python-ardrone/dataset/face-1.39.jpg 1\n",
      "/home/kshea/Projects/Drone/python-ardrone/dataset/face-1.31.jpg 1\n",
      "/home/kshea/Projects/Drone/python-ardrone/dataset/face-1.7.jpg 1\n",
      "/home/kshea/Projects/Drone/python-ardrone/dataset/face-1.48.jpg 1\n",
      "/home/kshea/Projects/Drone/python-ardrone/dataset/face-1.45.jpg 1\n"
     ]
    }
   ],
   "source": [
    "import cv2, os\n",
    "\n",
    "# Import numpy for matrix calculation\n",
    "import numpy as np\n",
    "\n",
    "# Import Python Image Library (PIL)\n",
    "from PIL import Image\n",
    "\n",
    "import os\n",
    "\n",
    "def assure_path_exists(path):\n",
    "    dir = os.path.dirname(path)\n",
    "    if not os.path.exists(dir):\n",
    "        os.makedirs(dir)\n",
    "\n",
    "# Create Local Binary Patterns Histograms for face recognization\n",
    "recognizer = cv2.face.LBPHFaceRecognizer_create()\n",
    "\n",
    "# Using prebuilt frontal face training model, for face detection\n",
    "detector = cv2.CascadeClassifier(\"face.xml\")\n",
    "path = '/home/kshea/Projects/Drone/python-ardrone/dataset'\n",
    "# Create method to get the images and label data\n",
    "def getImagesAndLabels(path):\n",
    "    # Get all file path\n",
    "    imagePaths = [os.path.join(path,f) for f in os.listdir(path)] \n",
    "    \n",
    "    # Initialize empty face sample\n",
    "    faceSamples=[]\n",
    "    \n",
    "    # Initialize empty id\n",
    "    ids = []\n",
    "\n",
    "    # Loop all the file path\n",
    "    for imagePath in imagePaths:\n",
    "\n",
    "        # Get the image and convert it to grayscale\n",
    "        PIL_img = Image.open(imagePath).convert('L')\n",
    "\n",
    "        # PIL image to numpy array\n",
    "        img_numpy = np.array(PIL_img,'uint8')\n",
    "\n",
    "        # Get the image id\n",
    "        id = int(os.path.split(imagePath)[1].split(\".\")[0].replace(\"face-\", \"\"))\n",
    "        print(imagePath,id)\n",
    "        # Get the face from the training images\n",
    "        faces = detector.detectMultiScale(img_numpy)\n",
    "\n",
    "        # Loop for each face, append to their respective ID\n",
    "        for (x,y,w,h) in faces:\n",
    "\n",
    "            # Add the image to face samples\n",
    "            faceSamples.append(img_numpy[y:y+h,x:x+w])\n",
    "\n",
    "            # Add the ID to IDs\n",
    "            ids.append(id)\n",
    "\n",
    "    # Pass the face array and IDs array\n",
    "    return faceSamples,ids\n",
    "\n",
    "# Get the faces and IDs\n",
    "faces,ids = getImagesAndLabels(path)\n",
    "\n",
    "# Train the model using the faces and IDs\n",
    "recognizer.train(faces, np.array(ids))\n",
    "\n",
    "# Save the model into trainer.yml\n",
    "assure_path_exists('trainer/')\n",
    "recognizer.save('trainer/trainer.yml')"
   ]
  },
  {
   "cell_type": "code",
   "execution_count": 7,
   "metadata": {},
   "outputs": [
    {
     "ename": "NameError",
     "evalue": "name 'getImagesAndLabels' is not defined",
     "output_type": "error",
     "traceback": [
      "\u001b[0;31m---------------------------------------------------------------------------\u001b[0m",
      "\u001b[0;31mNameError\u001b[0m                                 Traceback (most recent call last)",
      "\u001b[0;32m<ipython-input-7-e5f809e62558>\u001b[0m in \u001b[0;36m<module>\u001b[0;34m()\u001b[0m\n\u001b[0;32m----> 1\u001b[0;31m \u001b[0mfaces\u001b[0m\u001b[0;34m,\u001b[0m\u001b[0mids\u001b[0m \u001b[0;34m=\u001b[0m \u001b[0mgetImagesAndLabels\u001b[0m\u001b[0;34m(\u001b[0m\u001b[0;34m'dataset'\u001b[0m\u001b[0;34m)\u001b[0m\u001b[0;34m\u001b[0m\u001b[0m\n\u001b[0m",
      "\u001b[0;31mNameError\u001b[0m: name 'getImagesAndLabels' is not defined"
     ]
    }
   ],
   "source": [
    "faces,ids = getImagesAndLabels('dataset')"
   ]
  },
  {
   "cell_type": "code",
   "execution_count": 11,
   "metadata": {},
   "outputs": [
    {
     "name": "stdout",
     "output_type": "stream",
     "text": [
      "['/home/kshea/Projects/Drone/python-ardrone/dataset/face-1.11.jpg', '/home/kshea/Projects/Drone/python-ardrone/dataset/face-1.20.jpg', '/home/kshea/Projects/Drone/python-ardrone/dataset/face-1.18.jpg', '/home/kshea/Projects/Drone/python-ardrone/dataset/face-1.21.jpg', '/home/kshea/Projects/Drone/python-ardrone/dataset/face-1.13.jpg', '/home/kshea/Projects/Drone/python-ardrone/dataset/face-1.15.jpg', '/home/kshea/Projects/Drone/python-ardrone/dataset/face-1.8.jpg', '/home/kshea/Projects/Drone/python-ardrone/dataset/face-1.2.jpg', '/home/kshea/Projects/Drone/python-ardrone/dataset/face-1.12.jpg', '/home/kshea/Projects/Drone/python-ardrone/dataset/face-1.1.jpg', '/home/kshea/Projects/Drone/python-ardrone/dataset/face-1.5.jpg', '/home/kshea/Projects/Drone/python-ardrone/dataset/face-1.14.jpg', '/home/kshea/Projects/Drone/python-ardrone/dataset/face-1.16.jpg', '/home/kshea/Projects/Drone/python-ardrone/dataset/face-1.4.jpg', '/home/kshea/Projects/Drone/python-ardrone/dataset/face-1.19.jpg', '/home/kshea/Projects/Drone/python-ardrone/dataset/face-1.9.jpg', '/home/kshea/Projects/Drone/python-ardrone/dataset/face-1.17.jpg', '/home/kshea/Projects/Drone/python-ardrone/dataset/face-1.6.jpg', '/home/kshea/Projects/Drone/python-ardrone/dataset/face-1.10.jpg', '/home/kshea/Projects/Drone/python-ardrone/dataset/face-1.3.jpg', '/home/kshea/Projects/Drone/python-ardrone/dataset/face-1.7.jpg']\n"
     ]
    }
   ],
   "source": [
    "path = '/home/kshea/Projects/Drone/python-ardrone/dataset'\n",
    "  \n",
    "\n",
    "print( [os.path.join(path,f) for f in os.listdir(path)] )"
   ]
  },
  {
   "cell_type": "code",
   "execution_count": 2,
   "metadata": {},
   "outputs": [
    {
     "name": "stdout",
     "output_type": "stream",
     "text": [
      "1\n",
      "hi\n",
      "1\n",
      "hi\n",
      "1\n",
      "hi\n",
      "1\n",
      "hi\n",
      "1\n",
      "hi\n",
      "1\n",
      "hi\n",
      "1\n",
      "hi\n",
      "1\n",
      "hi\n",
      "1\n",
      "hi\n",
      "1\n",
      "hi\n",
      "1\n",
      "hi\n",
      "1\n",
      "hi\n",
      "1\n",
      "hi\n",
      "1\n",
      "hi\n",
      "1\n",
      "hi\n",
      "1\n",
      "hi\n",
      "1\n",
      "hi\n",
      "1\n",
      "hi\n",
      "1\n",
      "hi\n",
      "1\n",
      "hi\n",
      "1\n",
      "hi\n",
      "1\n",
      "hi\n",
      "1\n",
      "hi\n",
      "1\n",
      "hi\n",
      "1\n",
      "hi\n",
      "1\n",
      "hi\n",
      "1\n",
      "hi\n",
      "1\n",
      "hi\n",
      "1\n",
      "hi\n",
      "1\n",
      "hi\n",
      "1\n",
      "hi\n",
      "1\n",
      "hi\n",
      "1\n",
      "hi\n",
      "1\n",
      "hi\n",
      "1\n",
      "hi\n",
      "1\n",
      "hi\n",
      "1\n",
      "hi\n"
     ]
    }
   ],
   "source": [
    "import cv2\n",
    "\n",
    "# Import numpy for matrices calculations\n",
    "import numpy as np\n",
    "\n",
    "import os \n",
    "\n",
    "def assure_path_exists(path):\n",
    "    dir = os.path.dirname(path)\n",
    "    if not os.path.exists(dir):\n",
    "        os.makedirs(dir)\n",
    "\n",
    "# Create Local Binary Patterns Histograms for face recognization\n",
    "recognizer = cv2.face.LBPHFaceRecognizer_create()\n",
    "\n",
    "assure_path_exists(\"trainer/\")\n",
    "\n",
    "# Load the trained mode\n",
    "recognizer.read('trainer/trainer.yml')\n",
    "\n",
    "# Load prebuilt model for Frontal Face\n",
    "cascadePath = \"face.xml\"\n",
    "\n",
    "# Create classifier from prebuilt model\n",
    "faceCascade = cv2.CascadeClassifier(cascadePath);\n",
    "\n",
    "# Set the font style\n",
    "font = cv2.FONT_HERSHEY_SIMPLEX\n",
    "\n",
    "# Initialize and start the video frame capture\n",
    "cam = cv2.VideoCapture(0)\n",
    "\n",
    "# Loop\n",
    "while True:\n",
    "    # Read the video frame\n",
    "    ret, im =cam.read()\n",
    "\n",
    "    # Convert the captured frame into grayscale\n",
    "    gray = cv2.cvtColor(im,cv2.COLOR_BGR2GRAY)\n",
    "\n",
    "    # Get all face from the video frame\n",
    "    faces=faceCascade.detectMultiScale(gray, scaleFactor=1.2, minNeighbors=5, minSize=(100, 100), flags=cv2.CASCADE_SCALE_IMAGE)\n",
    "\n",
    "    # For each face in faces\n",
    "    for(x,y,w,h) in faces:\n",
    "\n",
    "        # Create rectangle around the face\n",
    "        cv2.rectangle(im, (x-20,y-20), (x+w+20,y+h+20), (0,255,0), 4)\n",
    "\n",
    "        # Recognize the face belongs to which ID\n",
    "        Id, confidence = recognizer.predict(gray[y:y+h,x:x+w])\n",
    "        print(Id)\n",
    "        # Check the ID if exist \n",
    "        if(Id == 1):\n",
    "            print(\"hi\")\n",
    "            Id = \"harsha {0:.2f}%\".format(round(100 - confidence, 2))\n",
    "        elif(Id == 2):\n",
    "            print(\"hi\")\n",
    "            Id = \"b {0:.2f}%\".format(round(100 - confidence, 2))\n",
    "\n",
    "        # Put text describe who is in the picture\n",
    "        cv2.rectangle(im, (x-22,y-90), (x+w+22, y-22), (0,255,0), -1)\n",
    "        cv2.putText(im, str(Id), (x,y-40), font, 1, (255,255,255), 3)\n",
    "\n",
    "    # Display the video frame with the bounded rectangle\n",
    "    cv2.imshow('im',im)  \n",
    "\n",
    "    # If 'q' is pressed, close program\n",
    "    if cv2.waitKey(10) & 0xFF == ord('q'):\n",
    "        break\n",
    "\n",
    "# Stop the camera\n",
    "cam.release()\n",
    "\n",
    "# Close all windows\n",
    "cv2.destroyAllWindows()"
   ]
  },
  {
   "cell_type": "code",
   "execution_count": 8,
   "metadata": {},
   "outputs": [
    {
     "ename": "error",
     "evalue": "OpenCV(3.4.3) /io/opencv/modules/imgproc/src/color.cpp:181: error: (-215:Assertion failed) !_src.empty() in function 'cvtColor'\n",
     "output_type": "error",
     "traceback": [
      "\u001b[0;31m---------------------------------------------------------------------------\u001b[0m",
      "\u001b[0;31merror\u001b[0m                                     Traceback (most recent call last)",
      "\u001b[0;32m<ipython-input-8-865d64bf38b0>\u001b[0m in \u001b[0;36m<module>\u001b[0;34m()\u001b[0m\n\u001b[1;32m      1\u001b[0m \u001b[0;32mwhile\u001b[0m \u001b[0;32mTrue\u001b[0m\u001b[0;34m:\u001b[0m\u001b[0;34m\u001b[0m\u001b[0m\n\u001b[1;32m      2\u001b[0m     \u001b[0mret\u001b[0m\u001b[0;34m,\u001b[0m \u001b[0mim\u001b[0m \u001b[0;34m=\u001b[0m\u001b[0mcam\u001b[0m\u001b[0;34m.\u001b[0m\u001b[0mread\u001b[0m\u001b[0;34m(\u001b[0m\u001b[0;34m)\u001b[0m\u001b[0;34m\u001b[0m\u001b[0m\n\u001b[0;32m----> 3\u001b[0;31m     \u001b[0mgray\u001b[0m\u001b[0;34m=\u001b[0m\u001b[0mcv2\u001b[0m\u001b[0;34m.\u001b[0m\u001b[0mcvtColor\u001b[0m\u001b[0;34m(\u001b[0m\u001b[0mim\u001b[0m\u001b[0;34m,\u001b[0m\u001b[0mcv2\u001b[0m\u001b[0;34m.\u001b[0m\u001b[0mCOLOR_BGR2GRAY\u001b[0m\u001b[0;34m)\u001b[0m\u001b[0;34m\u001b[0m\u001b[0m\n\u001b[0m\u001b[1;32m      4\u001b[0m     \u001b[0mfaces\u001b[0m\u001b[0;34m=\u001b[0m\u001b[0mfaceCascade\u001b[0m\u001b[0;34m.\u001b[0m\u001b[0mdetectMultiScale\u001b[0m\u001b[0;34m(\u001b[0m\u001b[0mgray\u001b[0m\u001b[0;34m,\u001b[0m \u001b[0mscaleFactor\u001b[0m\u001b[0;34m=\u001b[0m\u001b[0;36m1.2\u001b[0m\u001b[0;34m,\u001b[0m \u001b[0mminNeighbors\u001b[0m\u001b[0;34m=\u001b[0m\u001b[0;36m5\u001b[0m\u001b[0;34m,\u001b[0m \u001b[0mminSize\u001b[0m\u001b[0;34m=\u001b[0m\u001b[0;34m(\u001b[0m\u001b[0;36m100\u001b[0m\u001b[0;34m,\u001b[0m \u001b[0;36m100\u001b[0m\u001b[0;34m)\u001b[0m\u001b[0;34m,\u001b[0m \u001b[0mflags\u001b[0m\u001b[0;34m=\u001b[0m\u001b[0mcv2\u001b[0m\u001b[0;34m.\u001b[0m\u001b[0mCASCADE_SCALE_IMAGE\u001b[0m\u001b[0;34m)\u001b[0m\u001b[0;34m\u001b[0m\u001b[0m\n\u001b[1;32m      5\u001b[0m     \u001b[0;32mfor\u001b[0m\u001b[0;34m(\u001b[0m\u001b[0mx\u001b[0m\u001b[0;34m,\u001b[0m\u001b[0my\u001b[0m\u001b[0;34m,\u001b[0m\u001b[0mw\u001b[0m\u001b[0;34m,\u001b[0m\u001b[0mh\u001b[0m\u001b[0;34m)\u001b[0m \u001b[0;32min\u001b[0m \u001b[0mfaces\u001b[0m\u001b[0;34m:\u001b[0m\u001b[0;34m\u001b[0m\u001b[0m\n",
      "\u001b[0;31merror\u001b[0m: OpenCV(3.4.3) /io/opencv/modules/imgproc/src/color.cpp:181: error: (-215:Assertion failed) !_src.empty() in function 'cvtColor'\n"
     ]
    }
   ],
   "source": [
    "while True:\n",
    "    ret, im =cam.read()\n",
    "    gray=cv2.cvtColor(im,cv2.COLOR_BGR2GRAY)\n",
    "    faces=faceCascade.detectMultiScale(gray, scaleFactor=1.2, minNeighbors=5, minSize=(100, 100), flags=cv2.CASCADE_SCALE_IMAGE)\n",
    "    for(x,y,w,h) in faces:\n",
    "        nbr_predicted, conf = recognizer.predict(gray[y:y+h,x:x+w])\n",
    "        cv2.rectangle(im,(x-50,y-50),(x+w+50,y+h+50),(225,0,0),2)\n",
    "        if(nbr_predicted==7):\n",
    "             nbr_predicted='Obama'\n",
    "        elif(nbr_predicted==2):\n",
    "             nbr_predicted='Anirban'\n",
    "        cv2.PutText(cv2.cv.fromarray(im),str(nbr_predicted)+\"--\"+str(conf), (x,y+h),font, 255) #Draw the text\n",
    "        cv2.imshow('im',im)\n",
    "cv2.waitKey(10)"
   ]
  },
  {
   "cell_type": "code",
   "execution_count": 1,
   "metadata": {},
   "outputs": [
    {
     "ename": "ModuleNotFoundError",
     "evalue": "No module named 'ardrone'",
     "output_type": "error",
     "traceback": [
      "\u001b[0;31m---------------------------------------------------------------------------\u001b[0m",
      "\u001b[0;31mModuleNotFoundError\u001b[0m                       Traceback (most recent call last)",
      "\u001b[0;32m<ipython-input-1-431719e0ef0e>\u001b[0m in \u001b[0;36m<module>\u001b[0;34m()\u001b[0m\n\u001b[1;32m      5\u001b[0m \u001b[0;34m\u001b[0m\u001b[0m\n\u001b[1;32m      6\u001b[0m \u001b[0;32mimport\u001b[0m \u001b[0mos\u001b[0m\u001b[0;34m\u001b[0m\u001b[0m\n\u001b[0;32m----> 7\u001b[0;31m \u001b[0;32mimport\u001b[0m \u001b[0mardrone\u001b[0m\u001b[0;34m\u001b[0m\u001b[0m\n\u001b[0m\u001b[1;32m      8\u001b[0m \u001b[0mdrone\u001b[0m \u001b[0;34m=\u001b[0m \u001b[0mardrone\u001b[0m\u001b[0;34m.\u001b[0m\u001b[0mARDrone\u001b[0m\u001b[0;34m(\u001b[0m\u001b[0;34m)\u001b[0m\u001b[0;34m\u001b[0m\u001b[0m\n\u001b[1;32m      9\u001b[0m \u001b[0;32mfrom\u001b[0m \u001b[0mPIL\u001b[0m \u001b[0;32mimport\u001b[0m \u001b[0mImage\u001b[0m\u001b[0;34m\u001b[0m\u001b[0m\n",
      "\u001b[0;31mModuleNotFoundError\u001b[0m: No module named 'ardrone'"
     ]
    }
   ],
   "source": [
    "import cv2\n",
    "\n",
    "# Import numpy for matrices calculations\n",
    "import numpy as np\n",
    "\n",
    "import os \n",
    "import ardrone\n",
    "drone = ardrone.ARDrone()\n",
    "from PIL import Image\n",
    "\n",
    "def assure_path_exists(path):\n",
    "    dir = os.path.dirname(path)\n",
    "    if not os.path.exists(dir):\n",
    "        os.makedirs(dir)\n",
    "\n",
    "# Create Local Binary Patterns Histograms for face recognization\n",
    "recognizer = cv2.face.LBPHFaceRecognizer_create()\n",
    "\n",
    "assure_path_exists(\"trainer/\")\n",
    "\n",
    "# Load the trained mode\n",
    "recognizer.read('trainer/trainer.yml')\n",
    "\n",
    "# Load prebuilt model for Frontal Face\n",
    "cascadePath = \"face.xml\"\n",
    "\n",
    "# Create classifier from prebuilt model\n",
    "faceCascade = cv2.CascadeClassifier(cascadePath);\n",
    "\n",
    "# Set the font style\n",
    "font = cv2.FONT_HERSHEY_SIMPLEX\n",
    "\n",
    "\n",
    "# Loop\n",
    "while True:\n",
    "    # Read the video frame\n",
    "    frame = drone.image\n",
    "    open_cv_image =numpy.array(frame)\n",
    "\n",
    "    im =open_cv_image[:,:,::-1].copy()\n",
    "\n",
    "    # Convert the captured frame into grayscale\n",
    "    gray = cv2.cvtColor(im,cv2.COLOR_BGR2GRAY)\n",
    "\n",
    "    # Get all face from the video frame\n",
    "    faces=faceCascade.detectMultiScale(gray, scaleFactor=1.2, minNeighbors=5, minSize=(100, 100), flags=cv2.CASCADE_SCALE_IMAGE)\n",
    "\n",
    "    # For each face in faces\n",
    "    for(x,y,w,h) in faces:\n",
    "\n",
    "        # Create rectangle around the face\n",
    "        cv2.rectangle(im, (x-20,y-20), (x+w+20,y+h+20), (0,255,0), 4)\n",
    "\n",
    "        # Recognize the face belongs to which ID\n",
    "        Id, confidence = recognizer.predict(gray[y:y+h,x:x+w])\n",
    "        print(Id)\n",
    "        # Check the ID if exist \n",
    "        if(Id == 1):\n",
    "            print(\"hi\")\n",
    "            Id = \"harsha {0:.2f}%\".format(round(100 - confidence, 2))\n",
    "        elif(Id == 2):\n",
    "            print(\"hi\")\n",
    "            Id = \"b {0:.2f}%\".format(round(100 - confidence, 2))\n",
    "\n",
    "        # Put text describe who is in the picture\n",
    "        cv2.rectangle(im, (x-22,y-90), (x+w+22, y-22), (0,255,0), -1)\n",
    "        cv2.putText(im, str(Id), (x,y-40), font, 1, (255,255,255), 3)\n",
    "\n",
    "    # Display the video frame with the bounded rectangle\n",
    "    cv2.imshow('im',im) \n",
    "    cv2.imshow('im2',im) \n",
    "\n",
    "    # If 'q' is pressed, close program\n",
    "    if cv2.waitKey(10) & 0xFF == ord('q'):\n",
    "        break\n",
    "\n",
    "# Stop the camera\n",
    "cam.release()\n",
    "\n",
    "# Close all windows\n",
    "cv2.destroyAllWindows()"
   ]
  },
  {
   "cell_type": "code",
   "execution_count": null,
   "metadata": {},
   "outputs": [],
   "source": []
  }
 ],
 "metadata": {
  "kernelspec": {
   "display_name": "Python 3",
   "language": "python",
   "name": "python3"
  },
  "language_info": {
   "codemirror_mode": {
    "name": "ipython",
    "version": 3
   },
   "file_extension": ".py",
   "mimetype": "text/x-python",
   "name": "python",
   "nbconvert_exporter": "python",
   "pygments_lexer": "ipython3",
   "version": "3.6.5"
  }
 },
 "nbformat": 4,
 "nbformat_minor": 2
}
